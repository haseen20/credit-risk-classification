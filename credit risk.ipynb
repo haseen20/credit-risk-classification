{
 "cells": [
  {
   "cell_type": "code",
   "execution_count": 6,
   "id": "f4df3860-f6a5-474b-aab1-d7957487b9ef",
   "metadata": {},
   "outputs": [],
   "source": [
    "# Step 1: Import necessary libraries\n",
    "import pandas as pd\n",
    "from sklearn.model_selection import train_test_split\n",
    "\n",
    "# Step 2: Load the data\n",
    "df = pd.read_csv('Resources/lending_data.csv')\n",
    "\n",
    "# Step 3: Define the labels (y) and features (X)\n",
    "X = df.drop(columns=[\"loan_status\"])\n",
    "y = df[\"loan_status\"]\n",
    "\n",
    "# Step 4: Split the data into training and testing sets\n",
    "X_train, X_test, y_train, y_test = train_test_split(X, y, test_size=0.2, random_state=42)\n"
   ]
  },
  {
   "cell_type": "code",
   "execution_count": 7,
   "id": "6be4d3f7-3bb0-4b32-9562-a4bf75649072",
   "metadata": {},
   "outputs": [],
   "source": [
    "from sklearn.linear_model import LogisticRegression\n",
    "from sklearn.metrics import confusion_matrix, classification_report\n",
    "\n",
    "# Step 1: Instantiate the model\n",
    "model = LogisticRegression()\n",
    "\n",
    "# Step 2: Fit the model\n",
    "model.fit(X_train, y_train)\n",
    "\n",
    "# Step 3: Predict on test data\n",
    "y_pred = model.predict(X_test)\n"
   ]
  },
  {
   "cell_type": "code",
   "execution_count": 8,
   "id": "58f024aa-5892-4772-8dcf-64f15ec2de6f",
   "metadata": {},
   "outputs": [
    {
     "name": "stdout",
     "output_type": "stream",
     "text": [
      "Confusion Matrix:\n",
      "[[14943    68]\n",
      " [   31   466]]\n",
      "Classification Report:\n",
      "              precision    recall  f1-score   support\n",
      "\n",
      "           0       1.00      1.00      1.00     15011\n",
      "           1       0.87      0.94      0.90       497\n",
      "\n",
      "    accuracy                           0.99     15508\n",
      "   macro avg       0.94      0.97      0.95     15508\n",
      "weighted avg       0.99      0.99      0.99     15508\n",
      "\n"
     ]
    }
   ],
   "source": [
    "# Step 1: Confusion matrix\n",
    "conf_matrix = confusion_matrix(y_test, y_pred)\n",
    "print(f\"Confusion Matrix:\\n{conf_matrix}\")\n",
    "\n",
    "# Step 2: Classification report\n",
    "class_report = classification_report(y_test, y_pred)\n",
    "print(f\"Classification Report:\\n{class_report}\")\n"
   ]
  },
  {
   "cell_type": "code",
   "execution_count": 9,
   "id": "ff55fd17-9193-4826-a35f-bcb6a301c9bd",
   "metadata": {},
   "outputs": [
    {
     "ename": "SyntaxError",
     "evalue": "invalid syntax (837951632.py, line 4)",
     "output_type": "error",
     "traceback": [
      "\u001b[0;36m  Cell \u001b[0;32mIn[9], line 4\u001b[0;36m\u001b[0m\n\u001b[0;31m    The purpose of this analysis is to evaluate the credit risk of a set of loans using a logistic regression model. We aim to predict whether a loan is likely to be healthy (0) or at high risk of defaulting (1).\u001b[0m\n\u001b[0m        ^\u001b[0m\n\u001b[0;31mSyntaxError\u001b[0m\u001b[0;31m:\u001b[0m invalid syntax\n"
     ]
    }
   ],
   "source": [
    "# Credit Risk Classification Analysis\n",
    "\n",
    "## Overview\n",
    "The purpose of this analysis is to evaluate the credit risk of a set of loans using a logistic regression model. We aim to predict whether a loan is likely to be healthy (0) or at high risk of defaulting (1).\n",
    "\n",
    "## Results\n",
    "- **Accuracy**: X%\n",
    "- **Precision**: X%\n",
    "- **Recall**: X%\n",
    "\n",
    "## Summary\n",
    "Based on the logistic regression model, the predictions performed reasonably well for identifying healthy loans and high-risk loans. However, depending on the precision and recall scores, we might need further tuning or additional models to improve performance. The current model is recommended for further evaluation but not yet for production use.\n"
   ]
  }
 ],
 "metadata": {
  "kernelspec": {
   "display_name": "Python 3 (ipykernel)",
   "language": "python",
   "name": "python3"
  },
  "language_info": {
   "codemirror_mode": {
    "name": "ipython",
    "version": 3
   },
   "file_extension": ".py",
   "mimetype": "text/x-python",
   "name": "python",
   "nbconvert_exporter": "python",
   "pygments_lexer": "ipython3",
   "version": "3.12.4"
  }
 },
 "nbformat": 4,
 "nbformat_minor": 5
}
